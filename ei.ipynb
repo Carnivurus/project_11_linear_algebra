{
 "cells": [
  {
   "cell_type": "markdown",
   "metadata": {},
   "source": [
    "#### Relacion entre $w$ y $w$<sub>p<sub>\n",
    "\n",
    "Lo formula para obtener los coeficientes de regresion $w$ es:\n",
    "\n",
    "$w = (X^T\\cdot X)^{-1} \\cdot X^T \\cdot y$\n",
    "\n",
    "Mientras que la formula de XP es muy similar, remplazando a X de la siguiente manera:\n",
    "\n",
    "$wp = [(XP)^T\\cdot XP]^{-1} \\cdot (XP)^T \\cdot y$\n",
    "\n",
    "Podemos simplificar la formula wp usando primero la reversibilidad:  $(AB)^T = B^TA^T$ \n",
    "\n",
    "$wp = [X^T \\cdot P^T \\cdot XP]^{-1} \\cdot X^T \\cdot P^T \\cdot y$\n",
    "\n",
    "Ahora aplicamos la propiedad de inversion de matriz\n",
    "\n",
    "$ wp = (XP)^{-1}\\cdot (P^T)^{-1} \\cdot (X^T)^{-1} \\cdot X^T \\cdot P^T \\cdot y$\n",
    "\n",
    "Aplicamos identidad multiplicativa y obtenemos que  $(P^T)^{-1} \\cdot P^T$ = I, dejando la siguiente formula\n",
    "\n",
    "$ wp = (XP)^{-1} \\cdot (X^T)^{-1} \\cdot X^T \\cdot I \\cdot y$\n",
    "\n",
    "$ wp = (XP)^{-1} \\cdot (X^T)^{-1} \\cdot X^T \\cdot y$\n",
    "\n",
    "Finalmente con distributividad obtenemos la siguiente formula\n",
    "\n",
    "wp = $P^{-1} \\cdot (X^T \\cdot X)^{-1} \\cdot  (P^T)^{-1} \\cdot P^T \\cdot X \\cdot y $ \n",
    "\n",
    "wp = $P^{-1} \\cdot (X^T \\cdot X)^{-1} \\cdot X \\cdot y $ \n",
    "\n",
    "wp = $P^{-1} \\cdot w $ "
   ]
  },
  {
   "cell_type": "markdown",
   "metadata": {},
   "source": []
  },
  {
   "cell_type": "markdown",
   "metadata": {},
   "source": []
  }
 ],
 "metadata": {
  "kernelspec": {
   "display_name": ".venv",
   "language": "python",
   "name": "python3"
  },
  "language_info": {
   "codemirror_mode": {
    "name": "ipython",
    "version": 3
   },
   "file_extension": ".py",
   "mimetype": "text/x-python",
   "name": "python",
   "nbconvert_exporter": "python",
   "pygments_lexer": "ipython3",
   "version": "3.12.2"
  }
 },
 "nbformat": 4,
 "nbformat_minor": 2
}
