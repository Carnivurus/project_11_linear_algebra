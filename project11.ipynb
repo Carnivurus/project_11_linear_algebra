{
 "cells": [
  {
   "cell_type": "markdown",
   "metadata": {},
   "source": [
    "# Descripción"
   ]
  },
  {
   "cell_type": "markdown",
   "metadata": {},
   "source": [
    "La compañía de seguros Sure Tomorrow quiere resolver varias tareas con la ayuda de machine learning y te pide que evalúes esa posibilidad.\n",
    "- Tarea 1: encontrar clientes que sean similares a un cliente determinado. Esto ayudará a los agentes de la compañía con el marketing.\n",
    "- Tarea 2: predecir la probabilidad de que un nuevo cliente reciba una prestación del seguro. ¿Puede un modelo de predictivo funcionar mejor que un modelo dummy?\n",
    "- Tarea 3: predecir el número de prestaciones de seguro que un nuevo cliente pueda recibir utilizando un modelo de regresión lineal.\n",
    "- Tarea 4: proteger los datos personales de los clientes sin afectar al modelo del ejercicio anterior. Es necesario desarrollar un algoritmo de transformación de datos que dificulte la recuperación de la información personal si los datos caen en manos equivocadas. Esto se denomina enmascaramiento u ofuscación de datos. Pero los datos deben protegerse de tal manera que no se vea afectada la calidad de los modelos de machine learning. No es necesario elegir el mejor modelo, basta con demostrar que el algoritmo funciona correctamente.\n"
   ]
  },
  {
   "cell_type": "markdown",
   "metadata": {},
   "source": [
    "# Preprocesamiento y exploración de datos\n",
    "\n",
    "## Inicialización"
   ]
  },
  {
   "cell_type": "code",
   "execution_count": 133,
   "metadata": {},
   "outputs": [],
   "source": [
    "# pip install scikit-learn --upgrade"
   ]
  },
  {
   "cell_type": "code",
   "execution_count": 4,
   "metadata": {},
   "outputs": [],
   "source": [
    "import numpy as np\n",
    "import pandas as pd\n",
    "import math\n",
    "\n",
    "import seaborn as sns\n",
    "# import sklearn.linear_model\n",
    "from sklearn.linear_model import LinearRegression\n",
    "import sklearn.preprocessing\n",
    "\n",
    "\n",
    "from sklearn.neighbors import NearestNeighbors, KNeighborsClassifier\n",
    "from sklearn.metrics import confusion_matrix, f1_score, mean_squared_error, r2_score\n",
    "from sklearn.dummy import DummyClassifier\n",
    "from imblearn.over_sampling import SMOTE\n",
    "from sklearn.model_selection import train_test_split\n",
    "from IPython.display import display"
   ]
  },
  {
   "cell_type": "markdown",
   "metadata": {},
   "source": [
    "## Carga de datos"
   ]
  },
  {
   "cell_type": "markdown",
   "metadata": {},
   "source": [
    "Carga los datos y haz una revisión básica para comprobar que no hay problemas obvios."
   ]
  },
  {
   "cell_type": "code",
   "execution_count": 135,
   "metadata": {},
   "outputs": [],
   "source": [
    "# df = pd.read_csv('/datasets/insurance_us.csv')"
   ]
  },
  {
   "cell_type": "code",
   "execution_count": 136,
   "metadata": {},
   "outputs": [],
   "source": [
    "df = pd.read_csv('./insurance_us.csv')"
   ]
  },
  {
   "cell_type": "markdown",
   "metadata": {},
   "source": [
    "Renombramos las columnas para que el código se vea más coherente con su estilo."
   ]
  },
  {
   "cell_type": "code",
   "execution_count": 137,
   "metadata": {},
   "outputs": [],
   "source": [
    "df = df.rename(columns={'Gender': 'gender', 'Age': 'age', 'Salary': 'income', 'Family members': 'family_members', 'Insurance benefits': 'insurance_benefits'})"
   ]
  },
  {
   "cell_type": "code",
   "execution_count": 138,
   "metadata": {},
   "outputs": [
    {
     "data": {
      "text/html": [
       "<div>\n",
       "<style scoped>\n",
       "    .dataframe tbody tr th:only-of-type {\n",
       "        vertical-align: middle;\n",
       "    }\n",
       "\n",
       "    .dataframe tbody tr th {\n",
       "        vertical-align: top;\n",
       "    }\n",
       "\n",
       "    .dataframe thead th {\n",
       "        text-align: right;\n",
       "    }\n",
       "</style>\n",
       "<table border=\"1\" class=\"dataframe\">\n",
       "  <thead>\n",
       "    <tr style=\"text-align: right;\">\n",
       "      <th></th>\n",
       "      <th>gender</th>\n",
       "      <th>age</th>\n",
       "      <th>income</th>\n",
       "      <th>family_members</th>\n",
       "      <th>insurance_benefits</th>\n",
       "    </tr>\n",
       "  </thead>\n",
       "  <tbody>\n",
       "    <tr>\n",
       "      <th>200</th>\n",
       "      <td>1</td>\n",
       "      <td>36.0</td>\n",
       "      <td>23100.0</td>\n",
       "      <td>1</td>\n",
       "      <td>0</td>\n",
       "    </tr>\n",
       "    <tr>\n",
       "      <th>2059</th>\n",
       "      <td>0</td>\n",
       "      <td>27.0</td>\n",
       "      <td>49200.0</td>\n",
       "      <td>2</td>\n",
       "      <td>0</td>\n",
       "    </tr>\n",
       "    <tr>\n",
       "      <th>4608</th>\n",
       "      <td>1</td>\n",
       "      <td>41.0</td>\n",
       "      <td>32600.0</td>\n",
       "      <td>0</td>\n",
       "      <td>0</td>\n",
       "    </tr>\n",
       "    <tr>\n",
       "      <th>2481</th>\n",
       "      <td>0</td>\n",
       "      <td>38.0</td>\n",
       "      <td>50000.0</td>\n",
       "      <td>0</td>\n",
       "      <td>0</td>\n",
       "    </tr>\n",
       "    <tr>\n",
       "      <th>4662</th>\n",
       "      <td>1</td>\n",
       "      <td>47.0</td>\n",
       "      <td>32100.0</td>\n",
       "      <td>1</td>\n",
       "      <td>1</td>\n",
       "    </tr>\n",
       "    <tr>\n",
       "      <th>4171</th>\n",
       "      <td>1</td>\n",
       "      <td>47.0</td>\n",
       "      <td>43900.0</td>\n",
       "      <td>2</td>\n",
       "      <td>1</td>\n",
       "    </tr>\n",
       "    <tr>\n",
       "      <th>3826</th>\n",
       "      <td>1</td>\n",
       "      <td>42.0</td>\n",
       "      <td>42600.0</td>\n",
       "      <td>1</td>\n",
       "      <td>1</td>\n",
       "    </tr>\n",
       "    <tr>\n",
       "      <th>1721</th>\n",
       "      <td>1</td>\n",
       "      <td>29.0</td>\n",
       "      <td>27300.0</td>\n",
       "      <td>1</td>\n",
       "      <td>0</td>\n",
       "    </tr>\n",
       "    <tr>\n",
       "      <th>4072</th>\n",
       "      <td>1</td>\n",
       "      <td>27.0</td>\n",
       "      <td>44300.0</td>\n",
       "      <td>1</td>\n",
       "      <td>0</td>\n",
       "    </tr>\n",
       "    <tr>\n",
       "      <th>2867</th>\n",
       "      <td>1</td>\n",
       "      <td>32.0</td>\n",
       "      <td>48900.0</td>\n",
       "      <td>0</td>\n",
       "      <td>0</td>\n",
       "    </tr>\n",
       "  </tbody>\n",
       "</table>\n",
       "</div>"
      ],
      "text/plain": [
       "      gender   age   income  family_members  insurance_benefits\n",
       "200        1  36.0  23100.0               1                   0\n",
       "2059       0  27.0  49200.0               2                   0\n",
       "4608       1  41.0  32600.0               0                   0\n",
       "2481       0  38.0  50000.0               0                   0\n",
       "4662       1  47.0  32100.0               1                   1\n",
       "4171       1  47.0  43900.0               2                   1\n",
       "3826       1  42.0  42600.0               1                   1\n",
       "1721       1  29.0  27300.0               1                   0\n",
       "4072       1  27.0  44300.0               1                   0\n",
       "2867       1  32.0  48900.0               0                   0"
      ]
     },
     "execution_count": 138,
     "metadata": {},
     "output_type": "execute_result"
    }
   ],
   "source": [
    "df.sample(10)"
   ]
  },
  {
   "cell_type": "code",
   "execution_count": 139,
   "metadata": {},
   "outputs": [
    {
     "name": "stdout",
     "output_type": "stream",
     "text": [
      "<class 'pandas.core.frame.DataFrame'>\n",
      "RangeIndex: 5000 entries, 0 to 4999\n",
      "Data columns (total 5 columns):\n",
      " #   Column              Non-Null Count  Dtype  \n",
      "---  ------              --------------  -----  \n",
      " 0   gender              5000 non-null   int64  \n",
      " 1   age                 5000 non-null   float64\n",
      " 2   income              5000 non-null   float64\n",
      " 3   family_members      5000 non-null   int64  \n",
      " 4   insurance_benefits  5000 non-null   int64  \n",
      "dtypes: float64(2), int64(3)\n",
      "memory usage: 195.4 KB\n"
     ]
    }
   ],
   "source": [
    "df.info()"
   ]
  },
  {
   "cell_type": "markdown",
   "metadata": {},
   "source": [
    "Cambiando el tipo de columna float a int."
   ]
  },
  {
   "cell_type": "code",
   "execution_count": 140,
   "metadata": {},
   "outputs": [],
   "source": [
    "df['age'] = df['age'].astype('int')"
   ]
  },
  {
   "cell_type": "code",
   "execution_count": 141,
   "metadata": {},
   "outputs": [
    {
     "name": "stdout",
     "output_type": "stream",
     "text": [
      "<class 'pandas.core.frame.DataFrame'>\n",
      "RangeIndex: 5000 entries, 0 to 4999\n",
      "Data columns (total 5 columns):\n",
      " #   Column              Non-Null Count  Dtype  \n",
      "---  ------              --------------  -----  \n",
      " 0   gender              5000 non-null   int64  \n",
      " 1   age                 5000 non-null   int32  \n",
      " 2   income              5000 non-null   float64\n",
      " 3   family_members      5000 non-null   int64  \n",
      " 4   insurance_benefits  5000 non-null   int64  \n",
      "dtypes: float64(1), int32(1), int64(3)\n",
      "memory usage: 175.9 KB\n"
     ]
    }
   ],
   "source": [
    "# comprueba que la conversión se haya realizado con éxito\n",
    "df.info()"
   ]
  },
  {
   "cell_type": "markdown",
   "metadata": {},
   "source": [
    "Analizando estadisticas descriptivas"
   ]
  },
  {
   "cell_type": "code",
   "execution_count": 142,
   "metadata": {},
   "outputs": [
    {
     "data": {
      "text/html": [
       "<div>\n",
       "<style scoped>\n",
       "    .dataframe tbody tr th:only-of-type {\n",
       "        vertical-align: middle;\n",
       "    }\n",
       "\n",
       "    .dataframe tbody tr th {\n",
       "        vertical-align: top;\n",
       "    }\n",
       "\n",
       "    .dataframe thead th {\n",
       "        text-align: right;\n",
       "    }\n",
       "</style>\n",
       "<table border=\"1\" class=\"dataframe\">\n",
       "  <thead>\n",
       "    <tr style=\"text-align: right;\">\n",
       "      <th></th>\n",
       "      <th>gender</th>\n",
       "      <th>age</th>\n",
       "      <th>income</th>\n",
       "      <th>family_members</th>\n",
       "      <th>insurance_benefits</th>\n",
       "    </tr>\n",
       "  </thead>\n",
       "  <tbody>\n",
       "    <tr>\n",
       "      <th>count</th>\n",
       "      <td>5000.000000</td>\n",
       "      <td>5000.000000</td>\n",
       "      <td>5000.000000</td>\n",
       "      <td>5000.000000</td>\n",
       "      <td>5000.000000</td>\n",
       "    </tr>\n",
       "    <tr>\n",
       "      <th>mean</th>\n",
       "      <td>0.499000</td>\n",
       "      <td>30.952800</td>\n",
       "      <td>39916.360000</td>\n",
       "      <td>1.194200</td>\n",
       "      <td>0.148000</td>\n",
       "    </tr>\n",
       "    <tr>\n",
       "      <th>std</th>\n",
       "      <td>0.500049</td>\n",
       "      <td>8.440807</td>\n",
       "      <td>9900.083569</td>\n",
       "      <td>1.091387</td>\n",
       "      <td>0.463183</td>\n",
       "    </tr>\n",
       "    <tr>\n",
       "      <th>min</th>\n",
       "      <td>0.000000</td>\n",
       "      <td>18.000000</td>\n",
       "      <td>5300.000000</td>\n",
       "      <td>0.000000</td>\n",
       "      <td>0.000000</td>\n",
       "    </tr>\n",
       "    <tr>\n",
       "      <th>25%</th>\n",
       "      <td>0.000000</td>\n",
       "      <td>24.000000</td>\n",
       "      <td>33300.000000</td>\n",
       "      <td>0.000000</td>\n",
       "      <td>0.000000</td>\n",
       "    </tr>\n",
       "    <tr>\n",
       "      <th>50%</th>\n",
       "      <td>0.000000</td>\n",
       "      <td>30.000000</td>\n",
       "      <td>40200.000000</td>\n",
       "      <td>1.000000</td>\n",
       "      <td>0.000000</td>\n",
       "    </tr>\n",
       "    <tr>\n",
       "      <th>75%</th>\n",
       "      <td>1.000000</td>\n",
       "      <td>37.000000</td>\n",
       "      <td>46600.000000</td>\n",
       "      <td>2.000000</td>\n",
       "      <td>0.000000</td>\n",
       "    </tr>\n",
       "    <tr>\n",
       "      <th>max</th>\n",
       "      <td>1.000000</td>\n",
       "      <td>65.000000</td>\n",
       "      <td>79000.000000</td>\n",
       "      <td>6.000000</td>\n",
       "      <td>5.000000</td>\n",
       "    </tr>\n",
       "  </tbody>\n",
       "</table>\n",
       "</div>"
      ],
      "text/plain": [
       "            gender          age        income  family_members  \\\n",
       "count  5000.000000  5000.000000   5000.000000     5000.000000   \n",
       "mean      0.499000    30.952800  39916.360000        1.194200   \n",
       "std       0.500049     8.440807   9900.083569        1.091387   \n",
       "min       0.000000    18.000000   5300.000000        0.000000   \n",
       "25%       0.000000    24.000000  33300.000000        0.000000   \n",
       "50%       0.000000    30.000000  40200.000000        1.000000   \n",
       "75%       1.000000    37.000000  46600.000000        2.000000   \n",
       "max       1.000000    65.000000  79000.000000        6.000000   \n",
       "\n",
       "       insurance_benefits  \n",
       "count         5000.000000  \n",
       "mean             0.148000  \n",
       "std              0.463183  \n",
       "min              0.000000  \n",
       "25%              0.000000  \n",
       "50%              0.000000  \n",
       "75%              0.000000  \n",
       "max              5.000000  "
      ]
     },
     "execution_count": 142,
     "metadata": {},
     "output_type": "execute_result"
    }
   ],
   "source": [
    "df.describe()"
   ]
  },
  {
   "cell_type": "markdown",
   "metadata": {},
   "source": [
    "- Gender: Acording to the dataframe description, the mean and the standard deviation are similar. For this boolean columns basically it shows the distribution it - is half and half\n",
    "- Age: The mean age is 31 years old, the standard deviation bewteen the ages is around 8 years old, and 75% of this dataset represent 37 yrs old or less.\n",
    "- Income: The median income is $39,916.36, with a standard deviation of $9900. The third quartile shows an income of 46,600 or less. \n",
    "- Family Members: The median of the family members is just 1, having a maximum of 6 and minimum of 0, The 75% of the people in this dataset has 2 family members.\n",
    "- Insurance Benefits: The median of the insurance benefits is 0.14 from wich the third quartile represents 0."
   ]
  },
  {
   "cell_type": "markdown",
   "metadata": {},
   "source": [
    "## Análisis exploratorio de datos"
   ]
  },
  {
   "cell_type": "markdown",
   "metadata": {},
   "source": [
    "Vamos a comprobar rápidamente si existen determinados grupos de clientes observando el gráfico de pares."
   ]
  },
  {
   "cell_type": "code",
   "execution_count": 143,
   "metadata": {},
   "outputs": [],
   "source": [
    "g = sns.pairplot(df, kind='hist')\n",
    "g.fig.set_size_inches(12, 12)"
   ]
  },
  {
   "cell_type": "markdown",
   "metadata": {},
   "source": [
    "De acuerdo, es un poco complicado detectar grupos obvios (clústeres) ya que es difícil combinar diversas variables simultáneamente (para analizar distribuciones multivariadas). Ahí es donde LA y ML pueden ser bastante útiles. "
   ]
  },
  {
   "cell_type": "markdown",
   "metadata": {},
   "source": [
    "# Tarea 1. Clientes similares"
   ]
  },
  {
   "cell_type": "markdown",
   "metadata": {},
   "source": [
    "En el lenguaje de ML, es necesario desarrollar un procedimiento que devuelva los k vecinos más cercanos (objetos) para un objeto dado basándose en la distancia entre los objetos.\n",
    "Es posible que quieras revisar las siguientes lecciones (capítulo -> lección)- Distancia entre vectores -> Distancia euclidiana\n",
    "- Distancia entre vectores -> Distancia Manhattan\n",
    "\n",
    "Para resolver la tarea, podemos probar diferentes métricas de distancia."
   ]
  },
  {
   "cell_type": "markdown",
   "metadata": {},
   "source": [
    "Escribe una función que devuelva los k vecinos más cercanos para un $n^{th}$ objeto basándose en una métrica de distancia especificada. A la hora de realizar esta tarea no debe tenerse en cuenta el número de prestaciones de seguro recibidas.\n",
    "Puedes utilizar una implementación ya existente del algoritmo kNN de scikit-learn (consulta [el enlace](https://scikit-learn.org/stable/modules/generated/sklearn.neighbors.NearestNeighbors.html#sklearn.neighbors.NearestNeighbors)) o tu propia implementación.\n",
    "Pruébalo para cuatro combinaciones de dos casos- Escalado\n",
    "  - los datos no están escalados\n",
    "  - los datos se escalan con el escalador [MaxAbsScaler](https://scikit-learn.org/stable/modules/generated/sklearn.preprocessing.MaxAbsScaler.html)\n",
    "- Métricas de distancia\n",
    "  - Euclidiana\n",
    "  - Manhattan\n",
    "\n",
    "Responde a estas preguntas:- ¿El hecho de que los datos no estén escalados afecta al algoritmo kNN? Si es así, ¿cómo se manifiesta?- ¿Qué tan similares son los resultados al utilizar la métrica de distancia Manhattan (independientemente del escalado)?"
   ]
  },
  {
   "cell_type": "code",
   "execution_count": 144,
   "metadata": {},
   "outputs": [],
   "source": [
    "def get_knn(data, n, k, metric):\n",
    "    \"\"\"\n",
    "    Devuelve los k vecinos más cercanos\n",
    "\n",
    "    :param data: DataFrame de pandas utilizado para encontrar objetos similares dentro del mismo lugar    \n",
    "    :param n: número de objetos para los que se buscan los vecinos más cercanos    \n",
    "    :param k: número de vecinos más cercanos a devolver\n",
    "    :param métrica: nombre de la métrica de distancia    \"\"\"\n",
    "    \n",
    "\t#Defining the desired columns\n",
    "\t# Training the model\n",
    "    model = NearestNeighbors(n_neighbors=k, metric=metric)\n",
    "\t# Fitting the model\n",
    "    model.fit(data.to_numpy())\n",
    "    \n",
    "\t# Executing kneighbors function to get an specific distance\n",
    "    nbrs_distances, nbrs_indices = model.kneighbors([data.iloc[n]], k, return_distance=True)\n",
    "\n",
    "    data_res = pd.concat([\n",
    "        data.iloc[nbrs_indices[0]], \n",
    "        pd.DataFrame(nbrs_distances.T, index=nbrs_indices[0], columns=['distance'])\n",
    "        ], axis=1)\n",
    "    \n",
    "    return data_res"
   ]
  },
  {
   "cell_type": "markdown",
   "metadata": {},
   "source": [
    "Escalar datos."
   ]
  },
  {
   "cell_type": "code",
   "execution_count": 204,
   "metadata": {},
   "outputs": [],
   "source": [
    "feature_names = ['gender', 'age', 'income', 'family_members']\n",
    "\n",
    "def escalate_df(df, cols):\n",
    "    transformer_mas = sklearn.preprocessing.MaxAbsScaler().fit(df[cols].to_numpy())\n",
    "    df_scaled = df.copy().astype(np.float64)\n",
    "    df_scaled.loc[:, cols] = transformer_mas.transform(df[cols].to_numpy())\n",
    "    return df_scaled"
   ]
  },
  {
   "cell_type": "code",
   "execution_count": 205,
   "metadata": {},
   "outputs": [
    {
     "data": {
      "text/html": [
       "<div>\n",
       "<style scoped>\n",
       "    .dataframe tbody tr th:only-of-type {\n",
       "        vertical-align: middle;\n",
       "    }\n",
       "\n",
       "    .dataframe tbody tr th {\n",
       "        vertical-align: top;\n",
       "    }\n",
       "\n",
       "    .dataframe thead th {\n",
       "        text-align: right;\n",
       "    }\n",
       "</style>\n",
       "<table border=\"1\" class=\"dataframe\">\n",
       "  <thead>\n",
       "    <tr style=\"text-align: right;\">\n",
       "      <th></th>\n",
       "      <th>gender</th>\n",
       "      <th>age</th>\n",
       "      <th>income</th>\n",
       "      <th>family_members</th>\n",
       "      <th>insurance_benefits</th>\n",
       "      <th>insurance_benefits_received</th>\n",
       "    </tr>\n",
       "  </thead>\n",
       "  <tbody>\n",
       "    <tr>\n",
       "      <th>0</th>\n",
       "      <td>1.0</td>\n",
       "      <td>0.630769</td>\n",
       "      <td>0.627848</td>\n",
       "      <td>0.166667</td>\n",
       "      <td>0.0</td>\n",
       "      <td>0.0</td>\n",
       "    </tr>\n",
       "    <tr>\n",
       "      <th>1</th>\n",
       "      <td>0.0</td>\n",
       "      <td>0.707692</td>\n",
       "      <td>0.481013</td>\n",
       "      <td>0.166667</td>\n",
       "      <td>1.0</td>\n",
       "      <td>1.0</td>\n",
       "    </tr>\n",
       "    <tr>\n",
       "      <th>2</th>\n",
       "      <td>0.0</td>\n",
       "      <td>0.446154</td>\n",
       "      <td>0.265823</td>\n",
       "      <td>0.000000</td>\n",
       "      <td>0.0</td>\n",
       "      <td>0.0</td>\n",
       "    </tr>\n",
       "    <tr>\n",
       "      <th>3</th>\n",
       "      <td>0.0</td>\n",
       "      <td>0.323077</td>\n",
       "      <td>0.527848</td>\n",
       "      <td>0.333333</td>\n",
       "      <td>0.0</td>\n",
       "      <td>0.0</td>\n",
       "    </tr>\n",
       "    <tr>\n",
       "      <th>4</th>\n",
       "      <td>1.0</td>\n",
       "      <td>0.430769</td>\n",
       "      <td>0.330380</td>\n",
       "      <td>0.000000</td>\n",
       "      <td>0.0</td>\n",
       "      <td>0.0</td>\n",
       "    </tr>\n",
       "  </tbody>\n",
       "</table>\n",
       "</div>"
      ],
      "text/plain": [
       "   gender       age    income  family_members  insurance_benefits  \\\n",
       "0     1.0  0.630769  0.627848        0.166667                 0.0   \n",
       "1     0.0  0.707692  0.481013        0.166667                 1.0   \n",
       "2     0.0  0.446154  0.265823        0.000000                 0.0   \n",
       "3     0.0  0.323077  0.527848        0.333333                 0.0   \n",
       "4     1.0  0.430769  0.330380        0.000000                 0.0   \n",
       "\n",
       "   insurance_benefits_received  \n",
       "0                          0.0  \n",
       "1                          1.0  \n",
       "2                          0.0  \n",
       "3                          0.0  \n",
       "4                          0.0  "
      ]
     },
     "execution_count": 205,
     "metadata": {},
     "output_type": "execute_result"
    }
   ],
   "source": [
    "df_scaled = escalate_df(df,feature_names)\n",
    "df_scaled.head(5)"
   ]
  },
  {
   "cell_type": "markdown",
   "metadata": {},
   "source": [
    "Ahora, vamos a obtener registros similares para uno determinado, para cada combinación"
   ]
  },
  {
   "cell_type": "markdown",
   "metadata": {},
   "source": [
    "## Testing the code \n",
    "\n",
    "The code above will be tested with the following parameters."
   ]
  },
  {
   "cell_type": "code",
   "execution_count": 147,
   "metadata": {},
   "outputs": [],
   "source": [
    "# Parameters\n",
    "k = 3\n",
    "n = 5\n",
    "metrics = ['euclidean', 'manhattan']"
   ]
  },
  {
   "cell_type": "code",
   "execution_count": 206,
   "metadata": {},
   "outputs": [
    {
     "data": {
      "text/plain": [
       "gender                1.0\n",
       "age                  43.0\n",
       "income            41000.0\n",
       "family_members        2.0\n",
       "Name: 5, dtype: float64"
      ]
     },
     "execution_count": 206,
     "metadata": {},
     "output_type": "execute_result"
    }
   ],
   "source": [
    "df[feature_names].iloc[n]"
   ]
  },
  {
   "cell_type": "markdown",
   "metadata": {},
   "source": [
    "Ejecutando la funcion knn para los datos sin escalamiento, obteniendo las distancias (manhattan and euclidean) "
   ]
  },
  {
   "cell_type": "code",
   "execution_count": 149,
   "metadata": {},
   "outputs": [
    {
     "name": "stdout",
     "output_type": "stream",
     "text": [
      "No Scaled Test, euclidean metric\n",
      "___________________________\n",
      "      gender  age   income  family_members  distance\n",
      "3          0   21  41700.0               2  0.000000\n",
      "3894       0   21  41700.0               2  0.000000\n",
      "2102       0   23  41700.0               0  2.828427\n",
      "416        0   25  41700.0               2  4.000000\n",
      "4872       1   26  41700.0               2  5.099020\n",
      "No Scaled Test, manhattan metric\n",
      "___________________________\n",
      "      gender  age   income  family_members  distance\n",
      "3          0   21  41700.0               2       0.0\n",
      "3894       0   21  41700.0               2       0.0\n",
      "416        0   25  41700.0               2       4.0\n",
      "2102       0   23  41700.0               0       4.0\n",
      "4872       1   26  41700.0               2       6.0\n"
     ]
    }
   ],
   "source": [
    "for metric in metrics:\n",
    "\tprint(f'No Scaled Test, {metric} metric')\n",
    "\tprint('___________________________',)\n",
    "\tprint(get_knn(df[feature_names],k,n,metric))"
   ]
  },
  {
   "cell_type": "markdown",
   "metadata": {},
   "source": [
    "Ejecutando la funcion knn para los datos escalados, obteniendo las distancias (manhattan and euclidean) "
   ]
  },
  {
   "cell_type": "code",
   "execution_count": 150,
   "metadata": {},
   "outputs": [
    {
     "name": "stdout",
     "output_type": "stream",
     "text": [
      "Scaled Test, euclidean metric\n",
      "___________________________\n",
      "      gender       age    income  family_members  distance\n",
      "3894     0.0  0.323077  0.527848        0.333333  0.000000\n",
      "3        0.0  0.323077  0.527848        0.333333  0.000000\n",
      "29       0.0  0.323077  0.534177        0.333333  0.006329\n",
      "1614     0.0  0.323077  0.518987        0.333333  0.008861\n",
      "4125     0.0  0.307692  0.525316        0.333333  0.015592\n",
      "Scaled Test, manhattan metric\n",
      "___________________________\n",
      "      gender       age    income  family_members  distance\n",
      "3894     0.0  0.323077  0.527848        0.333333  0.000000\n",
      "3        0.0  0.323077  0.527848        0.333333  0.000000\n",
      "29       0.0  0.323077  0.534177        0.333333  0.006329\n",
      "1614     0.0  0.323077  0.518987        0.333333  0.008861\n",
      "4125     0.0  0.307692  0.525316        0.333333  0.017916\n"
     ]
    }
   ],
   "source": [
    "for metric in metrics:\n",
    "\tprint(f'Scaled Test, {metric} metric')\n",
    "\tprint('___________________________',)\n",
    "\tprint(get_knn(df_scaled[feature_names],k,n,metric))"
   ]
  },
  {
   "cell_type": "markdown",
   "metadata": {},
   "source": [
    "Respuestas a las preguntas"
   ]
  },
  {
   "cell_type": "markdown",
   "metadata": {},
   "source": [
    "**¿El hecho de que los datos no estén escalados afecta al algoritmo kNN? Si es así, ¿cómo se manifiesta?** \n",
    "\n",
    "Si, al comparar los resultados obtenidos con o sin escala, es visible la diferencia en sus resultados, esto se refleja en la diferencia de puntos decimales entre los datos calibrados y no calibrados."
   ]
  },
  {
   "cell_type": "markdown",
   "metadata": {},
   "source": [
    "**¿Qué tan similares son los resultados al utilizar la métrica de distancia Manhattan (independientemente del escalado)?** \n",
    "\n",
    "Son totalmente diferentes, no solo por la separacion de tres puntos decimales sino además por el valor final."
   ]
  },
  {
   "cell_type": "markdown",
   "metadata": {},
   "source": [
    "# Tarea 2. ¿Es probable que el cliente reciba una prestación del seguro?"
   ]
  },
  {
   "cell_type": "markdown",
   "metadata": {},
   "source": [
    "En términos de machine learning podemos considerarlo como una tarea de clasificación binaria."
   ]
  },
  {
   "cell_type": "markdown",
   "metadata": {},
   "source": [
    "Con el valor de `insurance_benefits` superior a cero como objetivo, evalúa si el enfoque de clasificación kNN puede funcionar mejor que el modelo dummy.\n",
    "Instrucciones:\n",
    "\n",
    "- Construye un clasificador basado en KNN y mide su calidad con la métrica F1 para k=1...10 tanto para los datos originales como para los escalados. Sería interesante observar cómo k puede influir en la métrica de evaluación y si el escalado de los datos provoca alguna diferencia. Puedes utilizar una implementación ya existente del algoritmo de clasificación kNN de scikit-learn (consulta [el enlace](https://scikit-learn.org/stable/modules/generated/sklearn.neighbors.KNeighborsClassifier.html)) o tu propia implementación.- Construye un modelo dummy que, en este caso, es simplemente un modelo aleatorio. Debería devolver \"1\" con cierta probabilidad. Probemos el modelo con cuatro valores de probabilidad: 0, la probabilidad de pagar cualquier prestación del seguro, 0.5, 1.\n",
    "\n",
    "La probabilidad de pagar cualquier prestación del seguro puede definirse como\n",
    "$$\n",
    "P\\{\\text{prestación de seguro recibida}\\}=\\frac{\\text{número de clientes que han recibido alguna prestación de seguro}}{\\text{número total de clientes}}.\n",
    "$$\n",
    "\n",
    "Divide todos los datos correspondientes a las etapas de entrenamiento/prueba respetando la proporción 70:30."
   ]
  },
  {
   "cell_type": "markdown",
   "metadata": {},
   "source": [
    "#### Calculando el objetivo"
   ]
  },
  {
   "cell_type": "code",
   "execution_count": 151,
   "metadata": {},
   "outputs": [],
   "source": [
    "## La columna insurance_benefits muestra el número de prestaciones que ha usado el cliente, por lo que tenemos que transformarlo en un booleano para tener nuestro objetivo.\n",
    "# Definiendo y\n",
    "df['insurance_benefits_received'] = np.where(df['insurance_benefits']>0, 1,0)"
   ]
  },
  {
   "cell_type": "markdown",
   "metadata": {},
   "source": [
    "#### Comprueba el desequilibrio de clases "
   ]
  },
  {
   "cell_type": "code",
   "execution_count": 152,
   "metadata": {},
   "outputs": [
    {
     "data": {
      "text/plain": [
       "insurance_benefits_received\n",
       "0    4436\n",
       "1     564\n",
       "Name: count, dtype: int64"
      ]
     },
     "execution_count": 152,
     "metadata": {},
     "output_type": "execute_result"
    }
   ],
   "source": [
    "# comprueba el desequilibrio de clases con value_counts()\n",
    "df['insurance_benefits_received'].value_counts()"
   ]
  },
  {
   "cell_type": "markdown",
   "metadata": {},
   "source": [
    "Tenemos mas datos en 0 que en 1 por lo que el algoritmo le otorgará mas peso al 0"
   ]
  },
  {
   "cell_type": "code",
   "execution_count": 153,
   "metadata": {},
   "outputs": [],
   "source": [
    "def eval_classifier(y_true, y_pred):\n",
    "    '''Esta función devolverá el score entre el valor predicho y el valor real'''\n",
    "    f1 = f1_score(y_true,y_pred)\n",
    "    # report = sklearn.metrics.classification_report(y_test,y_predict)\n",
    "    # conf_matrix = sklearn.metrics.confusion_matrix(y_test,y_predict)\n",
    "    print(f'F1 Score: {f1}')\n",
    "    print('Matriz de confusión:')\n",
    "    print(confusion_matrix(y_true, y_pred, normalize='all'))\n",
    "    print('_____________________', end='\\n\\n')"
   ]
  },
  {
   "cell_type": "code",
   "execution_count": 243,
   "metadata": {},
   "outputs": [],
   "source": [
    "def knn_score(X_train, X_test, y_train, y_test,k):\n",
    "    '''Esta función entrenará un modelo de clasificación Kneighbors para predecir y obtener el f1 score '''\n",
    "    model= KNeighborsClassifier(n_neighbors=k)\n",
    "    model.fit(X_train, y_train)\n",
    "    y_predict = model.predict(X_test)\n",
    "    # print(y_predict) Porque estoy obteniendo el mismo predict????\n",
    "    return eval_classifier(y_test, y_predict)"
   ]
  },
  {
   "cell_type": "code",
   "execution_count": 241,
   "metadata": {},
   "outputs": [],
   "source": [
    "# Declarar una funcion ya que se necestia para los df normales como los escalados\n",
    "def main(X,y,cols, escalated=False ):\n",
    "\t'''Esta funcion dividira los valores de entrada y balanceará el modelo de entrenamiento\n",
    "\tFinalmente pasara los valores a un modelo de vecinos para obtener la puntuación por el número de vecinos de 1 a 11'''\n",
    "\t# Dividimos nuestro conjunto en entrenamiento y test\n",
    "\tX_train, X_test, y_train, y_test = train_test_split(X,y, test_size=0.30, random_state=1234)\n",
    "\n",
    "\tif escalated == True:\n",
    "\t\tX_train = escalate_df(X_train, cols)\n",
    "\t\tX_test = escalate_df(X_test, cols)\n",
    "\n",
    "\t# # Entrenamos el clasificador KNN\n",
    "\tfor k in range(1,11):\n",
    "\t\tprint(f'RESULTADOS PARA EL REPORTE CON k={k} vecinos: \\n')\n",
    "\t\tknn_score(X_train, X_test, y_train, y_test,k)\n",
    "\t\t\n",
    "\t"
   ]
  },
  {
   "cell_type": "markdown",
   "metadata": {},
   "source": [
    "F1 Score para un conjunto escalado"
   ]
  },
  {
   "cell_type": "code",
   "execution_count": 244,
   "metadata": {},
   "outputs": [
    {
     "name": "stdout",
     "output_type": "stream",
     "text": [
      "RESULTADOS PARA EL REPORTE CON k=1 vecinos: \n",
      "\n",
      "F1 Score: 1.0\n",
      "Matriz de confusión:\n",
      "[[0.88466667 0.        ]\n",
      " [0.         0.11533333]]\n",
      "_____________________\n",
      "\n",
      "RESULTADOS PARA EL REPORTE CON k=2 vecinos: \n",
      "\n",
      "F1 Score: 1.0\n",
      "Matriz de confusión:\n",
      "[[0.88466667 0.        ]\n",
      " [0.         0.11533333]]\n",
      "_____________________\n",
      "\n",
      "RESULTADOS PARA EL REPORTE CON k=3 vecinos: \n",
      "\n",
      "F1 Score: 1.0\n",
      "Matriz de confusión:\n",
      "[[0.88466667 0.        ]\n",
      " [0.         0.11533333]]\n",
      "_____________________\n",
      "\n",
      "RESULTADOS PARA EL REPORTE CON k=4 vecinos: \n",
      "\n",
      "F1 Score: 1.0\n",
      "Matriz de confusión:\n",
      "[[0.88466667 0.        ]\n",
      " [0.         0.11533333]]\n",
      "_____________________\n",
      "\n",
      "RESULTADOS PARA EL REPORTE CON k=5 vecinos: \n",
      "\n",
      "F1 Score: 1.0\n",
      "Matriz de confusión:\n",
      "[[0.88466667 0.        ]\n",
      " [0.         0.11533333]]\n",
      "_____________________\n",
      "\n",
      "RESULTADOS PARA EL REPORTE CON k=6 vecinos: \n",
      "\n",
      "F1 Score: 1.0\n",
      "Matriz de confusión:\n",
      "[[0.88466667 0.        ]\n",
      " [0.         0.11533333]]\n",
      "_____________________\n",
      "\n",
      "RESULTADOS PARA EL REPORTE CON k=7 vecinos: \n",
      "\n",
      "F1 Score: 1.0\n",
      "Matriz de confusión:\n",
      "[[0.88466667 0.        ]\n",
      " [0.         0.11533333]]\n",
      "_____________________\n",
      "\n",
      "RESULTADOS PARA EL REPORTE CON k=8 vecinos: \n",
      "\n",
      "F1 Score: 1.0\n",
      "Matriz de confusión:\n",
      "[[0.88466667 0.        ]\n",
      " [0.         0.11533333]]\n",
      "_____________________\n",
      "\n",
      "RESULTADOS PARA EL REPORTE CON k=9 vecinos: \n",
      "\n",
      "F1 Score: 1.0\n",
      "Matriz de confusión:\n",
      "[[0.88466667 0.        ]\n",
      " [0.         0.11533333]]\n",
      "_____________________\n",
      "\n",
      "RESULTADOS PARA EL REPORTE CON k=10 vecinos: \n",
      "\n",
      "F1 Score: 1.0\n",
      "Matriz de confusión:\n",
      "[[0.88466667 0.        ]\n",
      " [0.         0.11533333]]\n",
      "_____________________\n",
      "\n"
     ]
    }
   ],
   "source": [
    "y = df['insurance_benefits_received']\n",
    "X = df.drop(columns='insurance_benefits_received')\n",
    "main(X,y, feature_names,escalated=True )\n"
   ]
  },
  {
   "cell_type": "markdown",
   "metadata": {},
   "source": [
    "Podemos oservar en el conjunto escalado que ninguno de los valores fueron clasificados con Falsos positivos y falsos Negativos"
   ]
  },
  {
   "cell_type": "markdown",
   "metadata": {},
   "source": [
    "F1 Score para un conjunto sin escalar"
   ]
  },
  {
   "cell_type": "code",
   "execution_count": 245,
   "metadata": {},
   "outputs": [
    {
     "name": "stdout",
     "output_type": "stream",
     "text": [
      "RESULTADOS PARA EL REPORTE CON k=1 vecinos: \n",
      "\n",
      "F1 Score: 0.6428571428571429\n",
      "Matriz de confusión:\n",
      "[[0.86066667 0.024     ]\n",
      " [0.04933333 0.066     ]]\n",
      "_____________________\n",
      "\n",
      "RESULTADOS PARA EL REPORTE CON k=2 vecinos: \n",
      "\n",
      "F1 Score: 0.37719298245614036\n",
      "Matriz de confusión:\n",
      "[[0.87666667 0.008     ]\n",
      " [0.08666667 0.02866667]]\n",
      "_____________________\n",
      "\n",
      "RESULTADOS PARA EL REPORTE CON k=3 vecinos: \n",
      "\n",
      "F1 Score: 0.4117647058823529\n",
      "Matriz de confusión:\n",
      "[[0.874      0.01066667]\n",
      " [0.08266667 0.03266667]]\n",
      "_____________________\n",
      "\n",
      "RESULTADOS PARA EL REPORTE CON k=4 vecinos: \n",
      "\n",
      "F1 Score: 0.21212121212121213\n",
      "Matriz de confusión:\n",
      "[[0.882      0.00266667]\n",
      " [0.10133333 0.014     ]]\n",
      "_____________________\n",
      "\n",
      "RESULTADOS PARA EL REPORTE CON k=5 vecinos: \n",
      "\n",
      "F1 Score: 0.208955223880597\n",
      "Matriz de confusión:\n",
      "[[0.88       0.00466667]\n",
      " [0.10133333 0.014     ]]\n",
      "_____________________\n",
      "\n",
      "RESULTADOS PARA EL REPORTE CON k=6 vecinos: \n",
      "\n",
      "F1 Score: 0.10810810810810811\n",
      "Matriz de confusión:\n",
      "[[0.88333333 0.00133333]\n",
      " [0.10866667 0.00666667]]\n",
      "_____________________\n",
      "\n",
      "RESULTADOS PARA EL REPORTE CON k=7 vecinos: \n",
      "\n",
      "F1 Score: 0.10638297872340426\n",
      "Matriz de confusión:\n",
      "[[0.88133333 0.00333333]\n",
      " [0.10866667 0.00666667]]\n",
      "_____________________\n",
      "\n",
      "RESULTADOS PARA EL REPORTE CON k=8 vecinos: \n",
      "\n",
      "F1 Score: 0.0449438202247191\n",
      "Matriz de confusión:\n",
      "[[8.84000000e-01 6.66666667e-04]\n",
      " [1.12666667e-01 2.66666667e-03]]\n",
      "_____________________\n",
      "\n",
      "RESULTADOS PARA EL REPORTE CON k=9 vecinos: \n",
      "\n",
      "F1 Score: 0.06666666666666667\n",
      "Matriz de confusión:\n",
      "[[8.84000000e-01 6.66666667e-04]\n",
      " [1.11333333e-01 4.00000000e-03]]\n",
      "_____________________\n",
      "\n",
      "RESULTADOS PARA EL REPORTE CON k=10 vecinos: \n",
      "\n",
      "F1 Score: 0.03409090909090909\n",
      "Matriz de confusión:\n",
      "[[0.88466667 0.        ]\n",
      " [0.11333333 0.002     ]]\n",
      "_____________________\n",
      "\n"
     ]
    }
   ],
   "source": [
    "main(X,y, feature_names,escalated=False )"
   ]
  },
  {
   "cell_type": "markdown",
   "metadata": {},
   "source": [
    "Para los resultados que no fueron estalados, obtenemos una incorrecta signación en falsos positivos y falsos negativos, afectando el F1 Score"
   ]
  },
  {
   "cell_type": "markdown",
   "metadata": {},
   "source": [
    "#### Generando un modelo aleatorio"
   ]
  },
  {
   "cell_type": "code",
   "execution_count": 246,
   "metadata": {},
   "outputs": [],
   "source": [
    "# generar la salida de un modelo aleatorio\n",
    "\n",
    "def rnd_model_predict(P, size, seed=42):\n",
    "    '''El objetivo de esta funcion simular los valores de y_predict de un df'''\n",
    "    rng = np.random.default_rng(seed=seed) # Genero una semilla para que mis futuros randoms siempre sean los mismos en los análisis.\n",
    "    return rng.binomial(n=1, p=P, size=size)"
   ]
  },
  {
   "cell_type": "code",
   "execution_count": 247,
   "metadata": {},
   "outputs": [
    {
     "name": "stdout",
     "output_type": "stream",
     "text": [
      "La probabilidad: 0.00\n",
      "F1 Score: 0.0\n",
      "Matriz de confusión:\n",
      "[[0.8872 0.    ]\n",
      " [0.1128 0.    ]]\n",
      "_____________________\n",
      "\n",
      "La probabilidad: 0.11\n",
      "F1 Score: 0.12072072072072072\n",
      "Matriz de confusión:\n",
      "[[0.7914 0.0958]\n",
      " [0.0994 0.0134]]\n",
      "_____________________\n",
      "\n",
      "La probabilidad: 0.50\n",
      "F1 Score: 0.19807883405101026\n",
      "Matriz de confusión:\n",
      "[[0.456  0.4312]\n",
      " [0.053  0.0598]]\n",
      "_____________________\n",
      "\n",
      "La probabilidad: 1.00\n",
      "F1 Score: 0.20273184759166069\n",
      "Matriz de confusión:\n",
      "[[0.     0.8872]\n",
      " [0.     0.1128]]\n",
      "_____________________\n",
      "\n"
     ]
    }
   ],
   "source": [
    "for P in [0, df['insurance_benefits_received'].sum() / len(df), 0.5, 1]:\n",
    "    print(f'La probabilidad: {P:.2f}')\n",
    "    y_pred_rnd = rnd_model_predict(P, len(df))\n",
    "    eval_classifier(df['insurance_benefits_received'], y_pred_rnd)    "
   ]
  },
  {
   "cell_type": "markdown",
   "metadata": {},
   "source": [
    "Creando valores artificiales para y_predict podemos observar los cambios que tendría la informacion.\n",
    "\n",
    "- Para probabilidad 0 : El 89% de los datos se clasificaron correctamente pero un 12% daría falsos '1', al no existir valores 1 reales no podemos tener verdaderos negativos.\n",
    "- Para la probabilidad de 0.11% : Tendríamos una mayor cantidad de '0' y el modelo clasificaria la mayoría correctamente. Los falos negativos para 0 y 1 serían mayores que nuestros verdaderos negativos.\n",
    "- Para la probabilidas de 0.5%: Tendríamos un balance entre ambos valores, en este caso podemos observar que el porcentaje de falsos positivos y falsos negativos aumento considerablemente, indicando que el modelo (supuesto) debería ser calibrado\n",
    "- Para la probabilidad de 1: El modelo tiene el peso en los valores 1 por lo que los verdaderos positivos no existirían, en este caso se puede observar una predicción muy pobre del modelo (modelo supuesto)."
   ]
  },
  {
   "cell_type": "markdown",
   "metadata": {},
   "source": [
    "# Tarea 3. Regresión (con regresión lineal)"
   ]
  },
  {
   "cell_type": "markdown",
   "metadata": {},
   "source": [
    "Con `insurance_benefits` como objetivo, evalúa cuál sería la RECM de un modelo de regresión lineal."
   ]
  },
  {
   "cell_type": "markdown",
   "metadata": {},
   "source": [
    "Construye tu propia implementación de regresión lineal. Para ello, recuerda cómo está formulada la solución de la tarea de regresión lineal en términos de LA. Comprueba la RECM tanto para los datos originales como para los escalados. ¿Puedes ver alguna diferencia en la RECM con respecto a estos dos casos?\n",
    "\n",
    "Denotemos\n",
    "- $X$: matriz de características; cada fila es un caso, cada columna es una característica, la primera columna está formada por unidades- $y$ — objetivo (un vector)- $\\hat{y}$ - objetivo estimado (un vector)- $w$ — vector de pesos\n",
    "La tarea de regresión lineal en el lenguaje de las matrices puede formularse así:\n",
    "$$\n",
    "y = Xw\n",
    "$$\n",
    "\n",
    "El objetivo de entrenamiento es entonces encontrar esa $w$ w que minimice la distancia L2 (ECM) entre $Xw$ y $y$:\n",
    "\n",
    "$$\n",
    "\\min_w d_2(Xw, y) \\quad \\text{or} \\quad \\min_w \\text{MSE}(Xw, y)\n",
    "$$\n",
    "\n",
    "Parece que hay una solución analítica para lo anteriormente expuesto:\n",
    "$$\n",
    "w = (X^T X)^{-1} X^T y\n",
    "$$\n",
    "\n",
    "La fórmula anterior puede servir para encontrar los pesos $w$ y estos últimos pueden utilizarse para calcular los valores predichos\n",
    "$$\n",
    "\\hat{y} = X_{val}w\n",
    "$$"
   ]
  },
  {
   "cell_type": "markdown",
   "metadata": {},
   "source": [
    "Divide todos los datos correspondientes a las etapas de entrenamiento/prueba respetando la proporción 70:30. Utiliza la métrica RECM para evaluar el modelo."
   ]
  },
  {
   "cell_type": "markdown",
   "metadata": {},
   "source": [
    "#### Creando Modelo de regresion linear"
   ]
  },
  {
   "cell_type": "code",
   "execution_count": 160,
   "metadata": {},
   "outputs": [],
   "source": [
    "class MyLinearRegression:\n",
    "    '''Esta clase identifica los pesos de una matriz a traves de su funcion fit y predice \n",
    "    \"Y\" a traves de la multiplicacion de el peso y la matriz de diseño extendida\n",
    "    '''\n",
    "    \n",
    "    def __init__(self):\n",
    "        \n",
    "        self.weights = None\n",
    "    \n",
    "    def fit(self, X, y):\n",
    "        X2 = np.append(np.ones([len(X), 1]), X, axis=1) #Determinando la matriz con columna de sesgo (intercepto)\n",
    "        self.weights = np.linalg.inv(X2.T @ X2) @ X2.T @ y # Obteniendo los pesos\n",
    "\n",
    "    def predict(self, X):\n",
    "        X2 = np.append(np.ones([len(X), 1]), X, axis=1) #Determinando la matriz con columna de sesgo (intercepto)\n",
    "        y_pred = X2 @ self.weights \n",
    "        \n",
    "        return y_pred"
   ]
  },
  {
   "cell_type": "code",
   "execution_count": 161,
   "metadata": {},
   "outputs": [],
   "source": [
    "def eval_regressor(y_true, y_pred):\n",
    "    \"Esta funcion toma los parametros y_true y y_pred pra obtener rmse y r2_score \"\n",
    "    rmse = math.sqrt(mean_squared_error(y_true, y_pred))\n",
    "    print(f'RMSE: {rmse:.2f}')\n",
    "    \n",
    "    r2score = math.sqrt(r2_score(y_true, y_pred))\n",
    "    print(f'R2: {r2score:.2f}')    \n",
    "    "
   ]
  },
  {
   "cell_type": "code",
   "execution_count": 162,
   "metadata": {},
   "outputs": [],
   "source": [
    "def linear_regression_report(X,y):\n",
    "    cols = ['age', 'gender', 'income', 'family_members', 'intercept']\n",
    "    X_train, X_test, y_train, y_test = train_test_split(X, y, test_size=0.3, random_state=12345)\n",
    "    lr = MyLinearRegression()\n",
    "    lr.fit(X_train, y_train)\n",
    "    w = lr.weights\n",
    "    print(pd.DataFrame(w.reshape(1,-1), columns=cols), end='\\n\\n')\n",
    "    y_test_pred = lr.predict(X_test)\n",
    "    eval_regressor(y_test, y_test_pred)"
   ]
  },
  {
   "cell_type": "markdown",
   "metadata": {},
   "source": [
    "Regresion linear para datos sin escalar"
   ]
  },
  {
   "cell_type": "code",
   "execution_count": 163,
   "metadata": {},
   "outputs": [
    {
     "name": "stdout",
     "output_type": "stream",
     "text": [
      "        age    gender   income  family_members  intercept\n",
      "0 -0.943539  0.016427  0.03575   -2.607437e-07   -0.01169\n",
      "\n",
      "RMSE: 0.34\n",
      "R2: 0.66\n"
     ]
    }
   ],
   "source": [
    "\n",
    "X = df[feature_names].to_numpy()\n",
    "y = df['insurance_benefits'].to_numpy()\n",
    "\n",
    "linear_regression_report(X,y)"
   ]
  },
  {
   "cell_type": "markdown",
   "metadata": {},
   "source": [
    "Con los datos sin escalar podemos observar un RMSE de 0.34, el cual detalla que pdemos esperar una variacion de 0..34 unidades del valor real. R2 nos muestra un valor de 0.66, es decir que en un 66% nuestra variable objetivo puede ser explicada/predicha por las colummnas de sus caracteristicas X"
   ]
  },
  {
   "cell_type": "markdown",
   "metadata": {},
   "source": [
    "Regresion linear para datos escalados"
   ]
  },
  {
   "cell_type": "code",
   "execution_count": 164,
   "metadata": {},
   "outputs": [
    {
     "name": "stdout",
     "output_type": "stream",
     "text": [
      "        age    gender    income  family_members  intercept\n",
      "0 -0.650583 -0.000731  1.608161        0.010817  -0.037975\n",
      "\n",
      "RMSE: 0.23\n",
      "R2: 0.66\n"
     ]
    }
   ],
   "source": [
    "y = df['insurance_benefits_received'].values\n",
    "X = df_scaled.drop(columns='insurance_benefits').values\n",
    "\n",
    "linear_regression_report(X,y)"
   ]
  },
  {
   "cell_type": "markdown",
   "metadata": {},
   "source": [
    "Al escalar los datos obtenemos un resultado mas exacto, teniendo una probabilidad de 0.23 unidades del valor real. (0 o 1). Por otra parte R2 menciona que en un 66% nuestra variable objetivo puede ser explicada/predicha por las colummnas de X"
   ]
  },
  {
   "cell_type": "markdown",
   "metadata": {},
   "source": [
    "# Tarea 4. Ofuscar datos"
   ]
  },
  {
   "cell_type": "markdown",
   "metadata": {},
   "source": [
    "Lo mejor es ofuscar los datos multiplicando las características numéricas (recuerda que se pueden ver como la matriz $X$) por una matriz invertible $P$. \n",
    "\n",
    "$$\n",
    "X' = X \\times P\n",
    "$$\n",
    "\n",
    "Trata de hacerlo y comprueba cómo quedarán los valores de las características después de la transformación. Por cierto, la propiedad de invertibilidad es importante aquí, así que asegúrate de que $P$ sea realmente invertible.\n",
    "\n",
    "Puedes revisar la lección 'Matrices y operaciones matriciales -> Multiplicación de matrices' para recordar la regla de multiplicación de matrices y su implementación con NumPy."
   ]
  },
  {
   "cell_type": "code",
   "execution_count": 165,
   "metadata": {},
   "outputs": [],
   "source": [
    "personal_info_column_list = ['gender', 'age', 'income', 'family_members']\n",
    "df_pn = df[personal_info_column_list]"
   ]
  },
  {
   "cell_type": "code",
   "execution_count": 166,
   "metadata": {},
   "outputs": [
    {
     "data": {
      "text/html": [
       "<div>\n",
       "<style scoped>\n",
       "    .dataframe tbody tr th:only-of-type {\n",
       "        vertical-align: middle;\n",
       "    }\n",
       "\n",
       "    .dataframe tbody tr th {\n",
       "        vertical-align: top;\n",
       "    }\n",
       "\n",
       "    .dataframe thead th {\n",
       "        text-align: right;\n",
       "    }\n",
       "</style>\n",
       "<table border=\"1\" class=\"dataframe\">\n",
       "  <thead>\n",
       "    <tr style=\"text-align: right;\">\n",
       "      <th></th>\n",
       "      <th>gender</th>\n",
       "      <th>age</th>\n",
       "      <th>income</th>\n",
       "      <th>family_members</th>\n",
       "    </tr>\n",
       "  </thead>\n",
       "  <tbody>\n",
       "    <tr>\n",
       "      <th>0</th>\n",
       "      <td>1</td>\n",
       "      <td>41</td>\n",
       "      <td>49600.0</td>\n",
       "      <td>1</td>\n",
       "    </tr>\n",
       "    <tr>\n",
       "      <th>1</th>\n",
       "      <td>0</td>\n",
       "      <td>46</td>\n",
       "      <td>38000.0</td>\n",
       "      <td>1</td>\n",
       "    </tr>\n",
       "    <tr>\n",
       "      <th>2</th>\n",
       "      <td>0</td>\n",
       "      <td>29</td>\n",
       "      <td>21000.0</td>\n",
       "      <td>0</td>\n",
       "    </tr>\n",
       "    <tr>\n",
       "      <th>3</th>\n",
       "      <td>0</td>\n",
       "      <td>21</td>\n",
       "      <td>41700.0</td>\n",
       "      <td>2</td>\n",
       "    </tr>\n",
       "    <tr>\n",
       "      <th>4</th>\n",
       "      <td>1</td>\n",
       "      <td>28</td>\n",
       "      <td>26100.0</td>\n",
       "      <td>0</td>\n",
       "    </tr>\n",
       "  </tbody>\n",
       "</table>\n",
       "</div>"
      ],
      "text/plain": [
       "   gender  age   income  family_members\n",
       "0       1   41  49600.0               1\n",
       "1       0   46  38000.0               1\n",
       "2       0   29  21000.0               0\n",
       "3       0   21  41700.0               2\n",
       "4       1   28  26100.0               0"
      ]
     },
     "execution_count": 166,
     "metadata": {},
     "output_type": "execute_result"
    }
   ],
   "source": [
    "df_pn.head()"
   ]
  },
  {
   "cell_type": "code",
   "execution_count": 167,
   "metadata": {},
   "outputs": [],
   "source": [
    "X = df_pn.to_numpy()"
   ]
  },
  {
   "cell_type": "markdown",
   "metadata": {},
   "source": [
    "La siguiente celda fue creada para reducir el código y para crear una matriz ofuscada invertible de nuestra matriz X para realizar observaciones de ofuscacion y manipulación de metricas"
   ]
  },
  {
   "cell_type": "code",
   "execution_count": 168,
   "metadata": {},
   "outputs": [],
   "source": [
    "def invertible_matrix(X,seed):\n",
    "    '''Funcion que crea una matriz aleatoria y la multiplica por una matriz invertible retornando\n",
    "    nuestra base ofuscada invertible'''\n",
    "    \n",
    "    # Creando la matriz aleatoria\n",
    "    rng = np.random.default_rng(seed=seed)\n",
    "    P = rng.random(size=(X.shape[1], X.shape[1]))\n",
    "\n",
    "    # Asegurando que P sea aleatoria\n",
    "    while np.linalg.det(P) == 0: \n",
    "        P = rng.random(size=(X.shape[1], X.shape[1]))\n",
    "\n",
    "    # Creando la matriz ofuscada (invertible)\n",
    "    X2_inv = X @ P\n",
    "    return X2_inv,P"
   ]
  },
  {
   "cell_type": "code",
   "execution_count": 169,
   "metadata": {},
   "outputs": [],
   "source": [
    "X2_inv, P =invertible_matrix(X,42)"
   ]
  },
  {
   "cell_type": "markdown",
   "metadata": {},
   "source": [
    "¿Puedes adivinar la edad o los ingresos de los clientes después de la transformación?"
   ]
  },
  {
   "cell_type": "markdown",
   "metadata": {},
   "source": [
    "No, los datos se han sesgado y a pesar de que el `income` podría entenderse como un valor, es totalmente diferente al valor original. "
   ]
  },
  {
   "cell_type": "code",
   "execution_count": 170,
   "metadata": {},
   "outputs": [],
   "source": [
    "encriypted_df = pd.DataFrame(X2_inv, columns=personal_info_column_list)"
   ]
  },
  {
   "cell_type": "code",
   "execution_count": 171,
   "metadata": {},
   "outputs": [
    {
     "data": {
      "text/html": [
       "<div>\n",
       "<style scoped>\n",
       "    .dataframe tbody tr th:only-of-type {\n",
       "        vertical-align: middle;\n",
       "    }\n",
       "\n",
       "    .dataframe tbody tr th {\n",
       "        vertical-align: top;\n",
       "    }\n",
       "\n",
       "    .dataframe thead th {\n",
       "        text-align: right;\n",
       "    }\n",
       "</style>\n",
       "<table border=\"1\" class=\"dataframe\">\n",
       "  <thead>\n",
       "    <tr style=\"text-align: right;\">\n",
       "      <th></th>\n",
       "      <th>gender</th>\n",
       "      <th>age</th>\n",
       "      <th>income</th>\n",
       "      <th>family_members</th>\n",
       "    </tr>\n",
       "  </thead>\n",
       "  <tbody>\n",
       "    <tr>\n",
       "      <th>0</th>\n",
       "      <td>6359.715273</td>\n",
       "      <td>22380.404676</td>\n",
       "      <td>18424.090742</td>\n",
       "      <td>46000.696690</td>\n",
       "    </tr>\n",
       "    <tr>\n",
       "      <th>1</th>\n",
       "      <td>4873.294065</td>\n",
       "      <td>17160.367030</td>\n",
       "      <td>14125.780761</td>\n",
       "      <td>35253.455773</td>\n",
       "    </tr>\n",
       "    <tr>\n",
       "      <th>2</th>\n",
       "      <td>2693.117429</td>\n",
       "      <td>9486.397744</td>\n",
       "      <td>7808.831560</td>\n",
       "      <td>19484.860631</td>\n",
       "    </tr>\n",
       "    <tr>\n",
       "      <th>3</th>\n",
       "      <td>5345.603937</td>\n",
       "      <td>18803.227203</td>\n",
       "      <td>15479.148373</td>\n",
       "      <td>38663.061863</td>\n",
       "    </tr>\n",
       "    <tr>\n",
       "      <th>4</th>\n",
       "      <td>3347.176735</td>\n",
       "      <td>11782.829283</td>\n",
       "      <td>9699.998942</td>\n",
       "      <td>24211.273378</td>\n",
       "    </tr>\n",
       "  </tbody>\n",
       "</table>\n",
       "</div>"
      ],
      "text/plain": [
       "        gender           age        income  family_members\n",
       "0  6359.715273  22380.404676  18424.090742    46000.696690\n",
       "1  4873.294065  17160.367030  14125.780761    35253.455773\n",
       "2  2693.117429   9486.397744   7808.831560    19484.860631\n",
       "3  5345.603937  18803.227203  15479.148373    38663.061863\n",
       "4  3347.176735  11782.829283   9699.998942    24211.273378"
      ]
     },
     "execution_count": 171,
     "metadata": {},
     "output_type": "execute_result"
    }
   ],
   "source": [
    "encriypted_df.head()"
   ]
  },
  {
   "cell_type": "markdown",
   "metadata": {},
   "source": [
    "¿Puedes recuperar los datos originales de $X'$ si conoces $P$? Intenta comprobarlo a través de los cálculos moviendo $P$ del lado derecho de la fórmula anterior al izquierdo. En este caso las reglas de la multiplicación matricial son realmente útiles"
   ]
  },
  {
   "cell_type": "markdown",
   "metadata": {},
   "source": [
    "Siguiendo la logica de la formula si quisieramos obetner X la formula sería la siguiente:\n",
    "$$ X' = X \\cdot P\n",
    "$$\n",
    "$$  X' \\cdot P^{-1} = X \n",
    "$$"
   ]
  },
  {
   "cell_type": "code",
   "execution_count": 172,
   "metadata": {},
   "outputs": [],
   "source": [
    "def decrypt_matrix (ofuscated_matrix, P):\n",
    "    '''Esta funcion devuelve la matriz a su dimension original, \n",
    "    multiplicando la matriz inversa de P por el la matriz ofuscada'''\n",
    "\n",
    "    P_inv = np.linalg.inv(P)\n",
    "    return ofuscated_matrix @ P_inv\n"
   ]
  },
  {
   "cell_type": "code",
   "execution_count": 173,
   "metadata": {},
   "outputs": [],
   "source": [
    "decriypted_df = pd.DataFrame(decrypt_matrix(X2_inv, P), columns=personal_info_column_list)"
   ]
  },
  {
   "cell_type": "markdown",
   "metadata": {},
   "source": [
    "Muestra los tres casos para algunos clientes- Datos originales\n",
    "- El que está transformado- El que está invertido (recuperado)"
   ]
  },
  {
   "cell_type": "code",
   "execution_count": 174,
   "metadata": {},
   "outputs": [
    {
     "name": "stdout",
     "output_type": "stream",
     "text": [
      "Dataframe Invertido\n",
      "         gender   age   income  family_members\n",
      "0  1.000000e+00  41.0  49600.0    1.000000e+00\n",
      "1 -4.473636e-12  46.0  38000.0    1.000000e+00\n",
      "2 -2.515869e-12  29.0  21000.0    9.524523e-13\n",
      "\n",
      "Dataframe Recuperado\n",
      "   gender  age   income  family_members\n",
      "0       1   41  49600.0               1\n",
      "1       0   46  38000.0               1\n",
      "2       0   29  21000.0               0\n"
     ]
    }
   ],
   "source": [
    "print('Dataframe Invertido')\n",
    "print(decriypted_df.loc[0:2], end='\\n\\n')\n",
    "print('Dataframe Recuperado')\n",
    "print(df_pn.loc[0:2])"
   ]
  },
  {
   "cell_type": "markdown",
   "metadata": {},
   "source": [
    "Seguramente puedes ver que algunos valores no son exactamente iguales a los de los datos originales. ¿Cuál podría ser la razón de ello?"
   ]
  },
  {
   "cell_type": "markdown",
   "metadata": {},
   "source": [
    "Al multiplicar matrices se hacen calculos que pueden generar valores muy pequeós debido a la precisión finita de los calculos computancionales, la forma de solucionarlo es redondeando los valores para el dataframe y pasarlos a un valor entero"
   ]
  },
  {
   "cell_type": "code",
   "execution_count": 175,
   "metadata": {},
   "outputs": [
    {
     "name": "stdout",
     "output_type": "stream",
     "text": [
      "   gender  age  income  family_members\n",
      "0       1   41   49600               1\n",
      "1       0   46   38000               1\n",
      "2       0   29   21000               0\n",
      "\n",
      "   gender  age  income  family_members\n",
      "0       1   41   49600               1\n",
      "1       0   46   38000               1\n",
      "2       0   29   21000               0\n"
     ]
    }
   ],
   "source": [
    "original = decriypted_df.round().astype(int)\n",
    "inverse = df_pn.round().astype(int)\n",
    "\n",
    "print(original.loc[0:2], end='\\n\\n')\n",
    "print(inverse.loc[0:2])"
   ]
  },
  {
   "cell_type": "markdown",
   "metadata": {},
   "source": [
    "## Prueba de que la ofuscación de datos puede funcionar con regresión lineal"
   ]
  },
  {
   "cell_type": "markdown",
   "metadata": {},
   "source": [
    "En este proyecto la tarea de regresión se ha resuelto con la regresión lineal. Tu siguiente tarea es demostrar _analytically_ que el método de ofuscación no afectará a la regresión lineal en términos de valores predichos, es decir, que sus valores seguirán siendo los mismos. ¿Lo puedes creer? Pues no hace falta que lo creas, ¡tienes que que demostrarlo!"
   ]
  },
  {
   "cell_type": "markdown",
   "metadata": {},
   "source": [
    "Entonces, los datos están ofuscados y ahora tenemos $X \\times P$ en lugar de tener solo $X$. En consecuencia, hay otros pesos $w_P$ como\n",
    "$$\n",
    "w = (X^T X)^{-1} X^T y \\quad \\Rightarrow \\quad w_P = [(XP)^T XP]^{-1} (XP)^T y\n",
    "$$\n",
    "\n",
    "1.- ¿Cómo se relacionarían $w$ y $w_P$ si simplificáramos la fórmula de $w_P$ anterior? \n",
    "\n",
    "2.- ¿Cuáles serían los valores predichos con $w_P$? \n",
    "\n",
    "3.- ¿Qué significa esto para la calidad de la regresión lineal si esta se mide mediante la RECM?\n",
    "Revisa el Apéndice B Propiedades de las matrices al final del cuaderno. ¡Allí encontrarás fórmulas muy útiles!\n",
    "\n",
    "No es necesario escribir código en esta sección, basta con una explicación analítica."
   ]
  },
  {
   "cell_type": "markdown",
   "metadata": {},
   "source": [
    "**Respuesta**"
   ]
  },
  {
   "cell_type": "markdown",
   "metadata": {},
   "source": [
    "1. `Son exactamente la misma formula, sin embargo en lugar de usar X como nuestra matriz a despejar ahora XP (la matriz ofuscada)es la que toma su lugar`\n",
    "\n",
    "2. Al ser $w_P$ los coeficientes que necesitamos multiplizar para minimizar la diferencia entre las predicciones, `los valores predichos serían la prediccion de una matriz ofuscada`\n",
    "3. `Esperaríamos que el RMSE sea comparable entre el dataframe ofuscado y el que no.`"
   ]
  },
  {
   "cell_type": "markdown",
   "metadata": {},
   "source": [
    "**Prueba analítica**"
   ]
  },
  {
   "cell_type": "markdown",
   "metadata": {},
   "source": [
    "## Prueba de regresión lineal con ofuscación de datos"
   ]
  },
  {
   "cell_type": "markdown",
   "metadata": {},
   "source": [
    "Ahora, probemos que la regresión lineal pueda funcionar, en términos computacionales, con la transformación de ofuscación elegida.\n",
    "Construye un procedimiento o una clase que ejecute la regresión lineal opcionalmente con la ofuscación. Puedes usar una implementación de regresión lineal de scikit-learn o tu propia implementación.\n",
    "Ejecuta la regresión lineal para los datos originales y los ofuscados, compara los valores predichos y los valores de las métricas RMSE y $R^2$. ¿Hay alguna diferencia?"
   ]
  },
  {
   "cell_type": "markdown",
   "metadata": {},
   "source": [
    "**Procedimiento**\n",
    "\n",
    "- Crea una matriz cuadrada $P$ de números aleatorios.- Comprueba que sea invertible. Si no lo es, repite el primer paso hasta obtener una matriz invertible.- <¡ tu comentario aquí !>\n",
    "- Utiliza $XP$ como la nueva matriz de características"
   ]
  },
  {
   "cell_type": "markdown",
   "metadata": {},
   "source": [
    "Contruir una clase que ejectue la regresion lineal con ofuscacion (opcional)"
   ]
  },
  {
   "cell_type": "markdown",
   "metadata": {},
   "source": [
    "#### Creando una clase de regresion lineal"
   ]
  },
  {
   "cell_type": "code",
   "execution_count": 1,
   "metadata": {},
   "outputs": [],
   "source": [
    "class obs_linear_regression():\n",
    "\n",
    "    def __init__(self, obfuscation=True):\n",
    "        self.obfuscation = obfuscation\n",
    "        self.P = None\n",
    "        '''Constructor linear de regresion\n",
    "            Parametros:\n",
    "            - obfuscation (booleano): Indica si la regresion debe utilizar la ofuscación o no.\n",
    "        '''\n",
    "\n",
    "    def obfuscate(self, X, seed=40):\n",
    "        '''Ofusca los datos de entrada utilizando una matriz invertible\n",
    "            Parametros:\n",
    "            - X (array): Matriz de caracteristicas de entrada\n",
    "            - seed (int: Indica La semilla para inicializar números aleatorios\n",
    "        '''\n",
    "        if self.obfuscation == True: #revisar porque tiene que ser P\n",
    "            n = X.shape[0]\n",
    "            rng = np.random.default_rng(seed=seed)\n",
    "            self.P = rng.random(size=(X.shape[1], X.shape[1]))\n",
    "            while np.linalg.det(self.P) == 0: \n",
    "                 self.P = rng.random(size=(X.shape[1], X.shape[1]))\n",
    "            X2 = X @ self.P\n",
    "            return X2\n",
    "         \n",
    "    def fit(self, X, y):\n",
    "        '''Entrena un modelo de regresion con matrices de caracteristica y de objetivo\n",
    "            Parametros:\n",
    "            - X (array): Matriz de caracteristicas de entrada\n",
    "            - y (array): Matriz Objetivo\n",
    "        '''\n",
    "        if self.obfuscation == True:\n",
    "            X = self.obfuscate(X)\n",
    "        self.model = LinearRegression().fit(X,y)\n",
    "\n",
    "    def predict(self,X):\n",
    "        '''Predice el modelo de regrecion con la matriz de caracteristicas de entrada\n",
    "            Parametros:\n",
    "            - X (array): Matriz de caracteristicas de entrada\n",
    "        '''\n",
    "        if self.obfuscation == True:\n",
    "            X = self.obfuscate(X)\n",
    "        return self.model.predict(X)\n",
    "    \n",
    "    def evaluate(self,y,y_predict):\n",
    "        '''Evalua el modelo y entrega las metricas MSE y RMSE\n",
    "            Parametros:\n",
    "            - y (array): Matriz objectivo\n",
    "            - y_predict (array): Matriz predicha\n",
    "        '''\n",
    "        MSE = mean_squared_error(y,y_predict)\n",
    "        RMSE= np.sqrt(MSE)\n",
    "        r2 = r2_score(y,y_predict)\n",
    "        return RMSE, r2"
   ]
  },
  {
   "cell_type": "markdown",
   "metadata": {},
   "source": [
    "#### Generando una matriz dummy"
   ]
  },
  {
   "cell_type": "code",
   "execution_count": 6,
   "metadata": {},
   "outputs": [],
   "source": [
    "X = pd.DataFrame([[1,0],[1,4]],columns=['A','B'])\n",
    "y = pd.DataFrame([1,2], columns=['C'])"
   ]
  },
  {
   "cell_type": "markdown",
   "metadata": {},
   "source": [
    "#### Ejecutando la clase a través de la función obs_lr"
   ]
  },
  {
   "cell_type": "code",
   "execution_count": 28,
   "metadata": {},
   "outputs": [],
   "source": [
    "def obs_lr(X,y, obfuscation):\n",
    "    model = obs_linear_regression(obfuscation=True)\n",
    "    model.obfuscate(X)\n",
    "    model.fit(X,y)\n",
    "    y_pred= model.predict(X)\n",
    "    RMSE, R2 = model.evaluate(y,y_pred)\n",
    "\n",
    "    if obfuscation == False:\n",
    "        print(f'Analisis de  regresion linear para la matriz sin fouscación.', \n",
    "              end=\"\\n\\n\")\n",
    "    else:\n",
    "        print(f'Analisis de  regresion linear para la matriz ofuscada. ',\n",
    "              end=\"\\n\\n\")\n",
    "        \n",
    "    print(f'El valor de RMSE es: {RMSE}')\n",
    "    print(f'El valor de R2 es: {R2:.2f}', end=\"\\n\\n\")\n",
    "\n"
   ]
  },
  {
   "cell_type": "markdown",
   "metadata": {},
   "source": [
    "#### Resultados"
   ]
  },
  {
   "cell_type": "code",
   "execution_count": 29,
   "metadata": {},
   "outputs": [
    {
     "name": "stdout",
     "output_type": "stream",
     "text": [
      "Analisis de  regresion linear para la matriz ofuscada. \n",
      "\n",
      "El valor de RMSE es: 2.220446049250313e-16\n",
      "El valor de R2 es: 1.00\n",
      "\n",
      "Analisis de  regresion linear para la matriz sin fouscación.\n",
      "\n",
      "El valor de RMSE es: 2.220446049250313e-16\n",
      "El valor de R2 es: 1.00\n",
      "\n"
     ]
    }
   ],
   "source": [
    "obs_lr(X,y,obfuscation=True)\n",
    "obs_lr(X,y,False)"
   ]
  },
  {
   "cell_type": "markdown",
   "metadata": {},
   "source": [
    "`Como podemos observar la ofuscacion de datos no afecta los resultados para las metricas de RMSE y R2`"
   ]
  },
  {
   "cell_type": "markdown",
   "metadata": {},
   "source": [
    "# Conclusiones"
   ]
  },
  {
   "cell_type": "code",
   "execution_count": null,
   "metadata": {},
   "outputs": [],
   "source": []
  },
  {
   "cell_type": "markdown",
   "metadata": {},
   "source": [
    "# Lista de control"
   ]
  },
  {
   "cell_type": "markdown",
   "metadata": {},
   "source": [
    "Escribe 'x' para verificar. Luego presiona Shift+Enter."
   ]
  },
  {
   "cell_type": "markdown",
   "metadata": {},
   "source": [
    "- [x]  Jupyter Notebook está abierto\n",
    "- [ ]  El código no tiene errores- [ ]  Las celdas están ordenadas de acuerdo con la lógica y el orden de ejecución\n",
    "- [ ]  Se ha realizado la tarea 1\n",
    "    - [ ]  Está presente el procedimiento que puede devolver k clientes similares para un cliente determinado\n",
    "    - [ ]  Se probó el procedimiento para las cuatro combinaciones propuestas    - [ ]  Se respondieron las preguntas sobre la escala/distancia- [ ]  Se ha realizado la tarea 2\n",
    "    - [ ]  Se construyó y probó el modelo de clasificación aleatoria para todos los niveles de probabilidad    - [ ]  Se construyó y probó el modelo de clasificación kNN tanto para los datos originales como para los escalados. Se calculó la métrica F1.- [ ]  Se ha realizado la tarea 3\n",
    "    - [ ]  Se implementó la solución de regresión lineal mediante operaciones matriciales    - [ ]  Se calculó la RECM para la solución implementada- [ ]  Se ha realizado la tarea 4\n",
    "    - [ ]  Se ofuscaron los datos mediante una matriz aleatoria e invertible P    - [ ]  Se recuperaron los datos ofuscados y se han mostrado algunos ejemplos    - [ ]  Se proporcionó la prueba analítica de que la transformación no afecta a la RECM    - [ ]  Se proporcionó la prueba computacional de que la transformación no afecta a la RECM- [ ]  Se han sacado conclusiones"
   ]
  },
  {
   "cell_type": "markdown",
   "metadata": {},
   "source": [
    "# Apéndices\n",
    "\n",
    "## Apéndice A: Escribir fórmulas en los cuadernos de Jupyter"
   ]
  },
  {
   "cell_type": "markdown",
   "metadata": {},
   "source": [
    "Puedes escribir fórmulas en tu Jupyter Notebook utilizando un lenguaje de marcado proporcionado por un sistema de publicación de alta calidad llamado $\\LaTeX$ (se pronuncia como \"Lah-tech\"). Las fórmulas se verán como las de los libros de texto.\n",
    "\n",
    "Para incorporar una fórmula a un texto, pon el signo de dólar (\\\\$) antes y después del texto de la fórmula, por ejemplo: $\\frac{1}{2} \\times \\frac{3}{2} = \\frac{3}{4}$ or $y = x^2, x \\ge 1$.\n",
    "\n",
    "Si una fórmula debe estar en el mismo párrafo, pon el doble signo de dólar (\\\\$\\\\$) antes y después del texto de la fórmula, por ejemplo:\n",
    "$$\n",
    "\\bar{x} = \\frac{1}{n}\\sum_{i=1}^{n} x_i.\n",
    "$$\n",
    "\n",
    "El lenguaje de marcado de [LaTeX](https://es.wikipedia.org/wiki/LaTeX) es muy popular entre las personas que utilizan fórmulas en sus artículos, libros y textos. Puede resultar complicado, pero sus fundamentos son sencillos. Consulta esta [ficha de ayuda](http://tug.ctan.org/info/undergradmath/undergradmath.pdf) (materiales en inglés) de dos páginas para aprender a componer las fórmulas más comunes."
   ]
  },
  {
   "cell_type": "markdown",
   "metadata": {},
   "source": [
    "## Apéndice B: Propiedades de las matrices"
   ]
  },
  {
   "cell_type": "markdown",
   "metadata": {},
   "source": [
    "Las matrices tienen muchas propiedades en cuanto al álgebra lineal. Aquí se enumeran algunas de ellas que pueden ayudarte a la hora de realizar la prueba analítica de este proyecto."
   ]
  },
  {
   "cell_type": "markdown",
   "metadata": {},
   "source": [
    "| Distributividad                                   | $A(B+C)=AB+AC$            |\n",
    "|---------------------------------------------------|----------------------------|\n",
    "| No conmutatividad                                 | $AB \\neq BA$               |\n",
    "| Propiedad asociativa de la multiplicación         | $(AB)C = A(BC)$            |\n",
    "| Propiedad de identidad multiplicativa             | $IA = AI = A$              |\n",
    "|                                                   | $A^{-1}A = AA^{-1} = I$    |\n",
    "|                                                   | $(AB)^{-1} = B^{-1}A^{-1}$ |\n",
    "| Reversibilidad de la transposición de un producto de matrices | $(AB)^T = B^TA^T$ |\n"
   ]
  },
  {
   "cell_type": "markdown",
   "metadata": {},
   "source": []
  }
 ],
 "metadata": {
  "kernelspec": {
   "display_name": "Python 3 (ipykernel)",
   "language": "python",
   "name": "python3"
  },
  "language_info": {
   "codemirror_mode": {
    "name": "ipython",
    "version": 3
   },
   "file_extension": ".py",
   "mimetype": "text/x-python",
   "name": "python",
   "nbconvert_exporter": "python",
   "pygments_lexer": "ipython3",
   "version": "3.12.2"
  },
  "toc": {
   "base_numbering": 1,
   "nav_menu": {},
   "number_sections": true,
   "sideBar": true,
   "skip_h1_title": true,
   "title_cell": "Table of Contents",
   "title_sidebar": "Contents",
   "toc_cell": false,
   "toc_position": {},
   "toc_section_display": true,
   "toc_window_display": false
  }
 },
 "nbformat": 4,
 "nbformat_minor": 4
}
